{
 "metadata": {
  "name": "",
  "signature": "sha256:59ef599a1e983161f602b91b06c22538c5bc8c851abaa4258f3faf6eb4922df2"
 },
 "nbformat": 3,
 "nbformat_minor": 0,
 "worksheets": [
  {
   "cells": [
    {
     "cell_type": "code",
     "collapsed": false,
     "input": [
      "from sklearn.naive_bayes import MultinomialNB, BernoulliNB  # Naive Bayes model classes\n",
      "from sklearn.feature_extraction.text import CountVectorizer  # convert text into feature vectors"
     ],
     "language": "python",
     "metadata": {},
     "outputs": [],
     "prompt_number": 1
    },
    {
     "cell_type": "code",
     "collapsed": false,
     "input": [
      "import csv\n",
      "from sklearn.cross_validation import train_test_split  # split the data you have into training and test sets"
     ],
     "language": "python",
     "metadata": {},
     "outputs": [],
     "prompt_number": 2
    },
    {
     "cell_type": "code",
     "collapsed": false,
     "input": [
      "import csv\n",
      "with open('text_dict.csv', 'rb') as r: \n",
      "    reader = csv.reader(r)\n",
      "    buzz_dict = dict(x for x in reader)\n",
      "\n",
      "corpus = []\n",
      "for text in buzz_dict.keys():\n",
      "    corpus.append((text,1))\n",
      "     \n",
      "with open('nytimesdata.csv', 'rb') as r: \n",
      "    reader = csv.reader(r)\n",
      "    corpus.append((x,0) for x in reader)\n",
      "    \n",
      "corpus2 = corpus[:]\n",
      "print corpus[3000]\n",
      "text, Y = zip(*corpus)"
     ],
     "language": "python",
     "metadata": {},
     "outputs": [
      {
       "output_type": "stream",
       "stream": "stdout",
       "text": [
        "('25 Craft Beer Names That Deserve A Round Of Applause', 1)\n"
       ]
      },
      {
       "ename": "TypeError",
       "evalue": "zip() argument after ** must be a mapping, not list",
       "output_type": "pyerr",
       "traceback": [
        "\u001b[0;31m---------------------------------------------------------------------------\u001b[0m\n\u001b[0;31mTypeError\u001b[0m                                 Traceback (most recent call last)",
        "\u001b[0;32m<ipython-input-23-42a47b78edd4>\u001b[0m in \u001b[0;36m<module>\u001b[0;34m()\u001b[0m\n\u001b[1;32m     13\u001b[0m \u001b[0;34m\u001b[0m\u001b[0m\n\u001b[1;32m     14\u001b[0m \u001b[0;32mprint\u001b[0m \u001b[0mcorpus\u001b[0m\u001b[0;34m[\u001b[0m\u001b[0;36m3000\u001b[0m\u001b[0;34m]\u001b[0m\u001b[0;34m\u001b[0m\u001b[0m\n\u001b[0;32m---> 15\u001b[0;31m \u001b[0mtext\u001b[0m\u001b[0;34m,\u001b[0m \u001b[0mY\u001b[0m \u001b[0;34m=\u001b[0m \u001b[0mzip\u001b[0m\u001b[0;34m(\u001b[0m\u001b[0;34m**\u001b[0m\u001b[0mcorpus\u001b[0m\u001b[0;34m)\u001b[0m\u001b[0;34m\u001b[0m\u001b[0m\n\u001b[0m",
        "\u001b[0;31mTypeError\u001b[0m: zip() argument after ** must be a mapping, not list"
       ]
      }
     ],
     "prompt_number": 23
    },
    {
     "cell_type": "code",
     "collapsed": false,
     "input": [
      "corpus = pickle.load(open('corpus.p', 'rb'))\n",
      "# convert features\n",
      "text, Y = zip(*corpus)\n",
      "\n",
      "vectorizer = CountVectorizer()\n",
      "# vectorizer = CountVectorizer(ngram_range=(1,2))\n",
      "# vectorizer = CountVectorizer(stop_words='english')\n",
      "# vectorizer = CountVectorizer(ngram_range=(1,3),stop_words='english')\n",
      "X = vectorizer.fit_transform(text)\n",
      "\n",
      "xtrain, xtest, ytrain, ytest = train_test_split(X, Y)\n",
      "\n",
      "best_MNB_alpha = 1\n",
      "best_BNB_alpha = 1\n",
      "best_MNB_score = 0\n",
      "best_BNB_score = 0\n",
      "for alph in range(1,30):\n",
      "    \n",
      "    MNB_score = 0\n",
      "    BNB_score = 0\n",
      "\n",
      "    average_count = 50\n",
      "    \n",
      "    for i in range(average_count):\n",
      "        xtrain, xtest, ytrain, ytest = train_test_split(X, Y)\n",
      "\n",
      "        # Create our classifier\n",
      "        clf = MultinomialNB(alpha=alph).fit(xtrain, ytrain)\n",
      "        MNB_score += (100 * clf.score(xtest, ytest))\n",
      "        clf = BernoulliNB(alpha=alph).fit(xtrain, ytrain)\n",
      "        BNB_score += (100 * clf.score(xtest, ytest))\n",
      "    \n",
      "    cur_MNB_score = MNB_score/average_count\n",
      "    cur_BNB_score = BNB_score/average_count\n",
      "    \n",
      "    if cur_MNB_score > best_MNB_score:\n",
      "        best_MNB_score = cur_MNB_score\n",
      "        best_MNB_alpha = alph\n",
      "        \n",
      "    if cur_BNB_score > best_BNB_score:\n",
      "        best_BNB_score = cur_BNB_score\n",
      "        best_BNB_alpha = alph\n",
      "    \n",
      "print \"Best MNB Accuracy: %0.2f%% for alpha = %d\" % (best_MNB_score, best_MNB_alpha)\n",
      "print \"Best BNB Accuracy: %0.2f%% for alpha = %d\" % (best_BNB_score, best_BNB_alpha)"
     ],
     "language": "python",
     "metadata": {},
     "outputs": [
      {
       "ename": "ValueError",
       "evalue": "I/O operation on closed file",
       "output_type": "pyerr",
       "traceback": [
        "\u001b[0;31m---------------------------------------------------------------------------\u001b[0m\n\u001b[0;31mValueError\u001b[0m                                Traceback (most recent call last)",
        "\u001b[0;32m<ipython-input-15-d373fa09cc35>\u001b[0m in \u001b[0;36m<module>\u001b[0;34m()\u001b[0m\n\u001b[1;32m      1\u001b[0m \u001b[0;31m# corpus = pickle.load(open('corpus.p', 'rb'))\u001b[0m\u001b[0;34m\u001b[0m\u001b[0;34m\u001b[0m\u001b[0m\n\u001b[1;32m      2\u001b[0m \u001b[0;31m# convert features\u001b[0m\u001b[0;34m\u001b[0m\u001b[0;34m\u001b[0m\u001b[0m\n\u001b[0;32m----> 3\u001b[0;31m \u001b[0mtext\u001b[0m\u001b[0;34m,\u001b[0m \u001b[0mY\u001b[0m \u001b[0;34m=\u001b[0m \u001b[0mzip\u001b[0m\u001b[0;34m(\u001b[0m\u001b[0;34m*\u001b[0m\u001b[0mcorpus\u001b[0m\u001b[0;34m)\u001b[0m\u001b[0;34m\u001b[0m\u001b[0m\n\u001b[0m\u001b[1;32m      4\u001b[0m \u001b[0;34m\u001b[0m\u001b[0m\n\u001b[1;32m      5\u001b[0m \u001b[0mvectorizer\u001b[0m \u001b[0;34m=\u001b[0m \u001b[0mCountVectorizer\u001b[0m\u001b[0;34m(\u001b[0m\u001b[0;34m)\u001b[0m\u001b[0;34m\u001b[0m\u001b[0m\n",
        "\u001b[0;32m<ipython-input-14-ee759ec4a4ce>\u001b[0m in \u001b[0;36m<genexpr>\u001b[0;34m(***failed resolving arguments***)\u001b[0m\n\u001b[1;32m     10\u001b[0m \u001b[0;32mwith\u001b[0m \u001b[0mopen\u001b[0m\u001b[0;34m(\u001b[0m\u001b[0;34m'nytimesdata.csv'\u001b[0m\u001b[0;34m,\u001b[0m \u001b[0;34m'rb'\u001b[0m\u001b[0;34m)\u001b[0m \u001b[0;32mas\u001b[0m \u001b[0mr\u001b[0m\u001b[0;34m:\u001b[0m\u001b[0;34m\u001b[0m\u001b[0m\n\u001b[1;32m     11\u001b[0m     \u001b[0mreader\u001b[0m \u001b[0;34m=\u001b[0m \u001b[0mcsv\u001b[0m\u001b[0;34m.\u001b[0m\u001b[0mreader\u001b[0m\u001b[0;34m(\u001b[0m\u001b[0mr\u001b[0m\u001b[0;34m)\u001b[0m\u001b[0;34m\u001b[0m\u001b[0m\n\u001b[0;32m---> 12\u001b[0;31m     \u001b[0mcorpus\u001b[0m\u001b[0;34m.\u001b[0m\u001b[0mappend\u001b[0m\u001b[0;34m(\u001b[0m\u001b[0;34m(\u001b[0m\u001b[0mx\u001b[0m\u001b[0;34m,\u001b[0m\u001b[0;36m0\u001b[0m\u001b[0;34m)\u001b[0m \u001b[0;32mfor\u001b[0m \u001b[0mx\u001b[0m \u001b[0;32min\u001b[0m \u001b[0mreader\u001b[0m\u001b[0;34m)\u001b[0m\u001b[0;34m\u001b[0m\u001b[0m\n\u001b[0m\u001b[1;32m     13\u001b[0m \u001b[0;34m\u001b[0m\u001b[0m\n",
        "\u001b[0;31mValueError\u001b[0m: I/O operation on closed file"
       ]
      }
     ],
     "prompt_number": 15
    },
    {
     "cell_type": "code",
     "collapsed": false,
     "input": [],
     "language": "python",
     "metadata": {},
     "outputs": []
    }
   ],
   "metadata": {}
  }
 ]
}