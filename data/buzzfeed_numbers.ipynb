{
 "metadata": {
  "name": "",
  "signature": "sha256:9969d6aa064f3f6e75001e19d520fc5e5499ea55c5a8e6c5c02bbaada4f02000"
 },
 "nbformat": 3,
 "nbformat_minor": 0,
 "worksheets": [
  {
   "cells": [
    {
     "cell_type": "code",
     "collapsed": false,
     "input": [
      "%pylab inline\n",
      "import pandas as pd\n",
      "import prettyplotlib as ppl\n",
      "import numpy as np\n",
      "import matplotlib.pyplot as plt\n",
      "import matplotlib.mlab as mlab\n",
      "\n",
      "buzz = pd.Series([14,13,31,10,32,28,13,15,10,15,2,10,11,11,12,20,23,20,29,64,23,10,20,15,19,13,27,28,17,25,24,13,22,23,13,17,28,800,38,10,27,26,12,13,74,16,16,24,19,18,23,15,28,19,17,42,15,12,21,24,21,14,25,10,72,24,21,9,13,22,4,37,21,11,39,15,32,100,35,13,10,12,18,10,19,27,13,35,16,12,12,37,25,36,23,22,15,33,33,50,16,19,11,24,14,2014,10,25,31,14,26,32,64,25,17,12,22,19,10,27,15,20,36,21,18,1996,11,11,20,22,2,24,19,18,7,54,17,38,16,22,11,26,28,50,17,23,16,25,10,24,18,50,29,39,29,11,24,64,20,8,24,92,22,27,27,14,1986,18,275,18,13,10,11,16,13,60,15,13,12,10,19,17,31,28,25,25,12,21,11,18,21,33,21,21,10,26,24,33,12,21,21,17,26,18,29,33,12,18,10,12,17,22,22,26,18,10,15,19,26,9,11,10,16,11,19,22,21,27,12,14,24,25,10,30,50,13,38,7,14,39,22,43,29,12,27,41,10,13,10,9,911,29,25,15,29,19,28,23,31,22,57,11,14,14,13,33,12,12,12,33,15,71,35,21,11,11,30,17,25,12,17,23,9,26,21,21,20,35,14,10,35,10,13,12,10,25,15,10,14,22,26,14,50,28,7,24,13,12,28,11,37,13,12,147,19,28,10,21,13,74,14,28,20,13,26,17,15,38,2014,12,10,250,22,29,21,28,25,23,17,26,10,10,25,83,12,10,22,26,21,11,10,25,21,36,14,15,16,23,11,31,30,14,14,21,17,13,23,11,23,21,25,16,14,10,28,12,28,12,16,27,20,13,11,32,14,12,21,22,10,12,10,12,15,18,14,32,23,12,11,27,59,33,35,24,25,17,65,23,17,16,16,13,21,25,11,28,22,16,14,12,14,100,51,26,1992,10,28,35,25,23,15,22,65,24,58,21,37,23,29,10,11,18,13,18,16,39,27,13,20,31,12,15,35,13,17,2014,21,8,16,10,10,15,97,33,11,25,13,21,10,10,15,17,27,19,19,36,21,21,45,9,55,15,16,13,12,14,24,17,13,23,14,21,14,17,24,10,15,24,23,30,17,24,35,17,14,11,35,19,16,26,14,15,10,33,28,16,28,23,64,24,21,45,25,14,26,15,12,19,5,24,52,46,11,35,99,17,33,5,9,21,32,25,15,40,21,47,26,26,22,11,11,6,30,11,43,10,12,13,17,25,25,17,21,11,13,10,23,28,12,100,16,2,29,15,17,12,18,27,27,23,21,26,33,12,11,3,31,16,15,21,40,18,13,18,13,19,12,11,24,18,12,22,28,9,21,26,41,14,13,25,49,23,29,10,14,20,24,16,21,11,10,49,14,38,90,7,17,11,13,21,16,10,15,22,14,24,4,2,2,11,12,15,16,23,27,10,16,12,13,39,27,38,14,11,17,29,17])\n",
      "buzz.describe()\n",
      "df = pd.DataFrame(index = range(len(buzz)), data = buzz)\n",
      "df.columns = ['numbers']\n",
      "df.describe()"
     ],
     "language": "python",
     "metadata": {},
     "outputs": [
      {
       "output_type": "stream",
       "stream": "stdout",
       "text": [
        "Populating the interactive namespace from numpy and matplotlib\n"
       ]
      },
      {
       "html": [
        "<div style=\"max-height:1000px;max-width:1500px;overflow:auto;\">\n",
        "<table border=\"1\" class=\"dataframe\">\n",
        "  <thead>\n",
        "    <tr style=\"text-align: right;\">\n",
        "      <th></th>\n",
        "      <th>numbers</th>\n",
        "    </tr>\n",
        "  </thead>\n",
        "  <tbody>\n",
        "    <tr>\n",
        "      <th>count</th>\n",
        "      <td>  657.000000</td>\n",
        "    </tr>\n",
        "    <tr>\n",
        "      <th>mean</th>\n",
        "      <td>   43.488584</td>\n",
        "    </tr>\n",
        "    <tr>\n",
        "      <th>std</th>\n",
        "      <td>  194.780960</td>\n",
        "    </tr>\n",
        "    <tr>\n",
        "      <th>min</th>\n",
        "      <td>    2.000000</td>\n",
        "    </tr>\n",
        "    <tr>\n",
        "      <th>25%</th>\n",
        "      <td>   13.000000</td>\n",
        "    </tr>\n",
        "    <tr>\n",
        "      <th>50%</th>\n",
        "      <td>   19.000000</td>\n",
        "    </tr>\n",
        "    <tr>\n",
        "      <th>75%</th>\n",
        "      <td>   26.000000</td>\n",
        "    </tr>\n",
        "    <tr>\n",
        "      <th>max</th>\n",
        "      <td> 2014.000000</td>\n",
        "    </tr>\n",
        "  </tbody>\n",
        "</table>\n",
        "<p>8 rows \u00d7 1 columns</p>\n",
        "</div>"
       ],
       "metadata": {},
       "output_type": "pyout",
       "prompt_number": 112,
       "text": [
        "           numbers\n",
        "count   657.000000\n",
        "mean     43.488584\n",
        "std     194.780960\n",
        "min       2.000000\n",
        "25%      13.000000\n",
        "50%      19.000000\n",
        "75%      26.000000\n",
        "max    2014.000000\n",
        "\n",
        "[8 rows x 1 columns]"
       ]
      }
     ],
     "prompt_number": 112
    },
    {
     "cell_type": "code",
     "collapsed": false,
     "input": [
      "\n",
      "bn_less = df[df['numbers']<60]\n",
      "bn_less.describe()\n"
     ],
     "language": "python",
     "metadata": {},
     "outputs": [
      {
       "html": [
        "<div style=\"max-height:1000px;max-width:1500px;overflow:auto;\">\n",
        "<table border=\"1\" class=\"dataframe\">\n",
        "  <thead>\n",
        "    <tr style=\"text-align: right;\">\n",
        "      <th></th>\n",
        "      <th>numbers</th>\n",
        "    </tr>\n",
        "  </thead>\n",
        "  <tbody>\n",
        "    <tr>\n",
        "      <th>count</th>\n",
        "      <td> 627.000000</td>\n",
        "    </tr>\n",
        "    <tr>\n",
        "      <th>mean</th>\n",
        "      <td>  20.215311</td>\n",
        "    </tr>\n",
        "    <tr>\n",
        "      <th>std</th>\n",
        "      <td>   9.619430</td>\n",
        "    </tr>\n",
        "    <tr>\n",
        "      <th>min</th>\n",
        "      <td>   2.000000</td>\n",
        "    </tr>\n",
        "    <tr>\n",
        "      <th>25%</th>\n",
        "      <td>  13.000000</td>\n",
        "    </tr>\n",
        "    <tr>\n",
        "      <th>50%</th>\n",
        "      <td>  18.000000</td>\n",
        "    </tr>\n",
        "    <tr>\n",
        "      <th>75%</th>\n",
        "      <td>  25.000000</td>\n",
        "    </tr>\n",
        "    <tr>\n",
        "      <th>max</th>\n",
        "      <td>  59.000000</td>\n",
        "    </tr>\n",
        "  </tbody>\n",
        "</table>\n",
        "<p>8 rows \u00d7 1 columns</p>\n",
        "</div>"
       ],
       "metadata": {},
       "output_type": "pyout",
       "prompt_number": 98,
       "text": [
        "          numbers\n",
        "count  627.000000\n",
        "mean    20.215311\n",
        "std      9.619430\n",
        "min      2.000000\n",
        "25%     13.000000\n",
        "50%     18.000000\n",
        "75%     25.000000\n",
        "max     59.000000\n",
        "\n",
        "[8 rows x 1 columns]"
       ]
      }
     ],
     "prompt_number": 98
    },
    {
     "cell_type": "code",
     "collapsed": false,
     "input": [
      "font = {'size'   : 12}\n",
      "\n",
      "plt.rc('font', **font)\n",
      "\n",
      "plt.figure()\n",
      "\n",
      "# bn_less.hist(bins = len(bn_less))\n",
      "# plt.xlabel('Mean score by postcode', fontsize=20)\n",
      "# plt.ylabel('Count', fontsize= 18)\n",
      "# plt.show()\n",
      "\n",
      "his = np.histogram(bn_less,bins=range(bn_less.min(),bn_less.max()+2))\n",
      "fig, ax = plt.subplots()\n",
      "offset = .5\n",
      "width = 1\n",
      "ind = (np.arange(bn_less.min(),bn_less.max()+1))\n",
      "ax.bar(ind - offset,his[0],width)\n",
      "print len(ind), len(his[0])\n",
      "ax.set_xticks(ind)\n",
      "# xts = range(bn_less.max())\n",
      "xts = [str(x) if x%5==0 else '' for x in ind] \n",
      "ax.set_xticklabels(tuple(xts))\n",
      "# plt.show()"
     ],
     "language": "python",
     "metadata": {},
     "outputs": [
      {
       "output_type": "stream",
       "stream": "stdout",
       "text": [
        "58 58\n"
       ]
      },
      {
       "metadata": {},
       "output_type": "pyout",
       "prompt_number": 177,
       "text": [
        "[<matplotlib.text.Text at 0x1094e0490>,\n",
        " <matplotlib.text.Text at 0x1094fd350>,\n",
        " <matplotlib.text.Text at 0x10973bb90>,\n",
        " <matplotlib.text.Text at 0x10973e310>,\n",
        " <matplotlib.text.Text at 0x10973ea50>,\n",
        " <matplotlib.text.Text at 0x1097411d0>,\n",
        " <matplotlib.text.Text at 0x109741910>,\n",
        " <matplotlib.text.Text at 0x109744090>,\n",
        " <matplotlib.text.Text at 0x1097447d0>,\n",
        " <matplotlib.text.Text at 0x109744f10>,\n",
        " <matplotlib.text.Text at 0x109746690>,\n",
        " <matplotlib.text.Text at 0x109746dd0>,\n",
        " <matplotlib.text.Text at 0x109749550>,\n",
        " <matplotlib.text.Text at 0x109749c90>,\n",
        " <matplotlib.text.Text at 0x10974c410>,\n",
        " <matplotlib.text.Text at 0x10974cb50>,\n",
        " <matplotlib.text.Text at 0x10974d2d0>,\n",
        " <matplotlib.text.Text at 0x10974da10>,\n",
        " <matplotlib.text.Text at 0x109750190>,\n",
        " <matplotlib.text.Text at 0x1097508d0>,\n",
        " <matplotlib.text.Text at 0x109753050>,\n",
        " <matplotlib.text.Text at 0x109753790>,\n",
        " <matplotlib.text.Text at 0x109753ed0>,\n",
        " <matplotlib.text.Text at 0x109756650>,\n",
        " <matplotlib.text.Text at 0x109756d90>,\n",
        " <matplotlib.text.Text at 0x109757510>,\n",
        " <matplotlib.text.Text at 0x109757c50>,\n",
        " <matplotlib.text.Text at 0x10975b3d0>,\n",
        " <matplotlib.text.Text at 0x10975bb10>,\n",
        " <matplotlib.text.Text at 0x10975d290>,\n",
        " <matplotlib.text.Text at 0x10975d9d0>,\n",
        " <matplotlib.text.Text at 0x10975f150>,\n",
        " <matplotlib.text.Text at 0x10975f890>,\n",
        " <matplotlib.text.Text at 0x10975ffd0>,\n",
        " <matplotlib.text.Text at 0x109763750>,\n",
        " <matplotlib.text.Text at 0x109763e90>,\n",
        " <matplotlib.text.Text at 0x109765610>,\n",
        " <matplotlib.text.Text at 0x109765d50>,\n",
        " <matplotlib.text.Text at 0x1097684d0>,\n",
        " <matplotlib.text.Text at 0x109768c10>,\n",
        " <matplotlib.text.Text at 0x10976b390>,\n",
        " <matplotlib.text.Text at 0x10976bad0>,\n",
        " <matplotlib.text.Text at 0x10976f250>,\n",
        " <matplotlib.text.Text at 0x10976f990>,\n",
        " <matplotlib.text.Text at 0x109771110>,\n",
        " <matplotlib.text.Text at 0x109771850>,\n",
        " <matplotlib.text.Text at 0x109771f90>,\n",
        " <matplotlib.text.Text at 0x109775710>,\n",
        " <matplotlib.text.Text at 0x109775e50>,\n",
        " <matplotlib.text.Text at 0x1097775d0>,\n",
        " <matplotlib.text.Text at 0x109777d10>,\n",
        " <matplotlib.text.Text at 0x10977a490>,\n",
        " <matplotlib.text.Text at 0x10977abd0>,\n",
        " <matplotlib.text.Text at 0x10977c350>,\n",
        " <matplotlib.text.Text at 0x10977ca90>,\n",
        " <matplotlib.text.Text at 0x10907c210>,\n",
        " <matplotlib.text.Text at 0x10907c950>,\n",
        " <matplotlib.text.Text at 0x10907e0d0>]"
       ]
      },
      {
       "metadata": {},
       "output_type": "display_data",
       "text": [
        "<matplotlib.figure.Figure at 0x1094d6b50>"
       ]
      },
      {
       "metadata": {},
       "output_type": "display_data",
       "png": "[encoded data removed]",
       "text": [
        "<matplotlib.figure.Figure at 0x108372490>"
       ]
      }
     ],
     "prompt_number": 177
    },
    {
     "cell_type": "code",
     "collapsed": false,
     "input": [],
     "language": "python",
     "metadata": {},
     "outputs": []
    }
   ],
   "metadata": {}
  }
 ]
}