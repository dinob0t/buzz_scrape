{
 "metadata": {
  "name": "",
  "signature": "sha256:ec7580cb461a4989b8e4ac7da0fbd84c8fb7168b35899864f706181e4b42b404"
 },
 "nbformat": 3,
 "nbformat_minor": 0,
 "worksheets": [
  {
   "cells": [
    {
     "cell_type": "code",
     "collapsed": false,
     "input": [
      "from sklearn.naive_bayes import MultinomialNB, BernoulliNB  # Naive Bayes model classes\n",
      "from sklearn.feature_extraction.text import CountVectorizer  # convert text into feature vectors"
     ],
     "language": "python",
     "metadata": {},
     "outputs": [],
     "prompt_number": 1
    },
    {
     "cell_type": "code",
     "collapsed": false,
     "input": [
      "import csv\n",
      "from sklearn.cross_validation import train_test_split  # split the data you have into training and test sets"
     ],
     "language": "python",
     "metadata": {},
     "outputs": [],
     "prompt_number": 2
    },
    {
     "cell_type": "code",
     "collapsed": false,
     "input": [
      "import csv\n",
      "with open('text_dict.csv', 'rb') as r: \n",
      "    reader = csv.reader(r)\n",
      "    buzz_dict = dict(x for x in reader)\n",
      "\n",
      "corpus = []\n",
      "for text in buzz_dict.keys():\n",
      "    corpus.append((str(\"\".join(text)),1))\n",
      "   \n",
      "with open('nytimesdata.csv', 'rb') as r: \n",
      "    reader = csv.reader(r)\n",
      "    nytimes = list((str(\"\".join(x)),0) for x in reader)\n",
      "\n",
      "corpus = corpus + nytimes\n",
      "# text, Y = zip(*corpus[1])"
     ],
     "language": "python",
     "metadata": {},
     "outputs": [],
     "prompt_number": 49
    },
    {
     "cell_type": "code",
     "collapsed": false,
     "input": [
      "# corpus = pickle.load(open('corpus.p', 'rb'))\n",
      "# convert features\n",
      "text, Y = zip(*corpus)\n",
      "\n",
      "vectorizer = CountVectorizer()\n",
      "# vectorizer = CountVectorizer(ngram_range=(1,2))\n",
      "# vectorizer = CountVectorizer(stop_words='english')\n",
      "# vectorizer = CountVectorizer(ngram_range=(1,3),stop_words='english')\n",
      "X = vectorizer.fit_transform(text)\n",
      "# print list(enumerate(vectorizer.get_feature_names()))\n",
      "xtrain, xtest, ytrain, ytest = train_test_split(X, Y)\n",
      "\n",
      "best_MNB_alpha = 1\n",
      "best_BNB_alpha = 1\n",
      "best_MNB_score = 0\n",
      "best_BNB_score = 0\n",
      "for alph in range(1,2):\n",
      "    \n",
      "    MNB_score = 0\n",
      "    BNB_score = 0\n",
      "\n",
      "    average_count = 50\n",
      "    \n",
      "    for i in range(average_count):\n",
      "        xtrain, xtest, ytrain, ytest = train_test_split(X, Y)\n",
      "\n",
      "        # Create our classifier\n",
      "        clf_MNB = MultinomialNB(alpha=alph).fit(xtrain, ytrain)\n",
      "        MNB_score += (100 * clf_MNB.score(xtest, ytest))\n",
      "        clf_BNB = BernoulliNB(alpha=alph).fit(xtrain, ytrain)\n",
      "        BNB_score += (100 * clf_BNB.score(xtest, ytest))\n",
      "    \n",
      "    cur_MNB_score = MNB_score/average_count\n",
      "    cur_BNB_score = BNB_score/average_count\n",
      "    \n",
      "    if cur_MNB_score > best_MNB_score:\n",
      "        best_MNB_score = cur_MNB_score\n",
      "        best_MNB_alpha = alph\n",
      "        \n",
      "    if cur_BNB_score > best_BNB_score:\n",
      "        best_BNB_score = cur_BNB_score\n",
      "        best_BNB_alpha = alph\n",
      "    \n",
      "print \"Best MNB Accuracy: %0.2f%% for alpha = %d\" % (best_MNB_score, best_MNB_alpha)\n",
      "print \"Best BNB Accuracy: %0.2f%% for alpha = %d\" % (best_BNB_score, best_BNB_alpha)"
     ],
     "language": "python",
     "metadata": {},
     "outputs": [
      {
       "output_type": "stream",
       "stream": "stdout",
       "text": [
        "Best MNB Accuracy: 87.08% for alpha = 1\n",
        "Best BNB Accuracy: 86.52% for alpha = 1\n"
       ]
      }
     ],
     "prompt_number": 134
    },
    {
     "cell_type": "code",
     "collapsed": false,
     "input": [
      "#1 buzz, 0 NYT\n",
      "clf_MNB = MultinomialNB(alpha=1).fit(X, Y)\n",
      "\n",
      "newVec = CountVectorizer(vocabulary=vectorizer.vocabulary_)\n",
      "Xnew = newVec.fit_transform([\"Stock \"])\n",
      "# print X[5024 ]\n",
      "# print corpus[5024]\n",
      "# print clf_MNB.predict(X[5024])\n",
      "print Xnew\n",
      "print clf_MNB.predict(Xnew)\n"
     ],
     "language": "python",
     "metadata": {},
     "outputs": [
      {
       "output_type": "stream",
       "stream": "stdout",
       "text": [
        "  (0, 815)\t1\n",
        "  (0, 7302)\t1\n",
        "  (0, 8044)\t1\n",
        "  (0, 8130)\t1\n",
        "[1]\n"
       ]
      }
     ],
     "prompt_number": 215
    },
    {
     "cell_type": "heading",
     "level": 5,
     "metadata": {},
     "source": [
      "  (861, 8161)\t1"
     ]
    },
    {
     "cell_type": "code",
     "collapsed": false,
     "input": [
      "# y_pred = clf_MNB.predict_proba(xtrain)\n",
      "# print y_pred\n",
      "# tags = list(set(xtest)\n",
      "# probs = y_pred.tolist() \n",
      "\n",
      "# print [zip(i, tags) for i in probs]"
     ],
     "language": "python",
     "metadata": {},
     "outputs": [],
     "prompt_number": 107
    },
    {
     "cell_type": "code",
     "collapsed": false,
     "input": [
      "print X"
     ],
     "language": "python",
     "metadata": {},
     "outputs": [
      {
       "output_type": "stream",
       "stream": "stdout",
       "text": [
        "  (899, 0)\t1\n",
        "  (1701, 0)\t1\n",
        "  (1826, 0)\t1\n",
        "  (2058, 0)\t1\n",
        "  (2311, 0)\t1\n",
        "  (2378, 0)\t1\n",
        "  (2474, 0)\t1\n",
        "  (2511, 0)\t1\n",
        "  (2653, 0)\t1\n",
        "  (3063, 0)\t1\n",
        "  (3105, 0)\t1\n",
        "  (3408, 0)\t1\n",
        "  (670, 1)\t1\n",
        "  (1821, 1)\t1\n",
        "  (1936, 1)\t1\n",
        "  (3060, 1)\t1\n",
        "  (3278, 1)\t1\n",
        "  (3289, 1)\t1\n",
        "  (4260, 2)\t1\n",
        "  (4265, 2)\t1\n",
        "  (16, 3)\t1\n",
        "  (17, 3)\t1\n",
        "  (54, 3)\t1\n",
        "  (66, 3)\t1\n",
        "  (114, 3)\t1\n",
        "  :\t:\n",
        "  (55, 8143)\t1\n",
        "  (1798, 8143)\t1\n",
        "  (4350, 8144)\t1\n",
        "  (4360, 8144)\t1\n",
        "  (4721, 8145)\t1\n",
        "  (2790, 8146)\t1\n",
        "  (3585, 8147)\t1\n",
        "  (3708, 8147)\t1\n",
        "  (4273, 8148)\t1\n",
        "  (2819, 8149)\t1\n",
        "  (576, 8150)\t1\n",
        "  (2814, 8150)\t1\n",
        "  (1816, 8151)\t1\n",
        "  (410, 8152)\t1\n",
        "  (3416, 8153)\t1\n",
        "  (1562, 8154)\t1\n",
        "  (1040, 8155)\t1\n",
        "  (654, 8156)\t1\n",
        "  (1992, 8156)\t1\n",
        "  (3814, 8156)\t1\n",
        "  (414, 8157)\t1\n",
        "  (778, 8158)\t1\n",
        "  (932, 8159)\t1\n",
        "  (3498, 8160)\t1\n",
        "  (861, 8161)\t1\n"
       ]
      }
     ],
     "prompt_number": 158
    },
    {
     "cell_type": "code",
     "collapsed": false,
     "input": [],
     "language": "python",
     "metadata": {},
     "outputs": []
    }
   ],
   "metadata": {}
  }
 ]
}