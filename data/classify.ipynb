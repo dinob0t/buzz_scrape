{
 "metadata": {
  "name": "",
  "signature": "sha256:08ba2bce81f7b91e861c6df5316e0ae8a4ead016da14453ee78bec08fbc24be2"
 },
 "nbformat": 3,
 "nbformat_minor": 0,
 "worksheets": [
  {
   "cells": [
    {
     "cell_type": "code",
     "collapsed": false,
     "input": [
      "from sklearn.naive_bayes import MultinomialNB, BernoulliNB  # Naive Bayes model classes\n",
      "from sklearn.feature_extraction.text import CountVectorizer  # convert text into feature vectors"
     ],
     "language": "python",
     "metadata": {},
     "outputs": [],
     "prompt_number": 81
    },
    {
     "cell_type": "code",
     "collapsed": false,
     "input": [
      "import csv\n",
      "from sklearn.cross_validation import train_test_split  # split the data you have into training and test sets"
     ],
     "language": "python",
     "metadata": {},
     "outputs": [],
     "prompt_number": 82
    },
    {
     "cell_type": "code",
     "collapsed": false,
     "input": [
      "import csv\n",
      "with open('text_dict.csv', 'rb') as r: \n",
      "    reader = csv.reader(r)\n",
      "    buzz_dict = dict(x for x in reader)\n",
      "\n",
      "corpus = []\n",
      "for text in buzz_dict.keys():\n",
      "    uni_text = ''.join([i if ord(i) < 128 else ' ' for i in text])\n",
      "    corpus.append((uni_text,1))\n",
      "\n",
      "print len(corpus)\n",
      "   \n",
      "with open('nytimesdata.csv', 'rb') as r: \n",
      "    reader = csv.reader(r)\n",
      "    nytimes = list((str(\"\".join(x)),0) for x in reader)\n",
      "corpus = corpus + nytimes\n",
      "print len(corpus)\n",
      "# text, Y = zip(*corpus[1])"
     ],
     "language": "python",
     "metadata": {},
     "outputs": [
      {
       "output_type": "stream",
       "stream": "stdout",
       "text": [
        "3733\n",
        "7629\n"
       ]
      }
     ],
     "prompt_number": 83
    },
    {
     "cell_type": "code",
     "collapsed": false,
     "input": [
      "# corpus = pickle.load(open('corpus.p', 'rb'))\n",
      "# convert features\n",
      "text, Y = zip(*corpus)\n",
      "\n",
      "vectorizer = CountVectorizer()\n",
      "# vectorizer = CountVectorizer(ngram_range=(1,2))\n",
      "# vectorizer = CountVectorizer(stop_words='english')\n",
      "# vectorizer = CountVectorizer(ngram_range=(1,3),stop_words='english')\n",
      "X = vectorizer.fit_transform(text)\n",
      "# print list(enumerate(vectorizer.get_feature_names()))\n",
      "xtrain, xtest, ytrain, ytest = train_test_split(X, Y)\n",
      "\n",
      "best_MNB_alpha = 1\n",
      "best_BNB_alpha = 1\n",
      "best_MNB_score = 0\n",
      "best_BNB_score = 0\n",
      "for alph in range(1,10):\n",
      "    \n",
      "    MNB_score = 0\n",
      "    BNB_score = 0\n",
      "\n",
      "    average_count = 100\n",
      "    \n",
      "    for i in range(average_count):\n",
      "        xtrain, xtest, ytrain, ytest = train_test_split(X, Y)\n",
      "\n",
      "        # Create our classifier\n",
      "        clf_MNB = MultinomialNB(alpha=alph).fit(xtrain, ytrain)\n",
      "        MNB_score += (100 * clf_MNB.score(xtest, ytest))\n",
      "        clf_BNB = BernoulliNB(alpha=alph).fit(xtrain, ytrain)\n",
      "        BNB_score += (100 * clf_BNB.score(xtest, ytest))\n",
      "    \n",
      "    cur_MNB_score = MNB_score/average_count\n",
      "    cur_BNB_score = BNB_score/average_count\n",
      "    \n",
      "    if cur_MNB_score > best_MNB_score:\n",
      "        best_MNB_score = cur_MNB_score\n",
      "        best_MNB_alpha = alph\n",
      "        \n",
      "    if cur_BNB_score > best_BNB_score:\n",
      "        best_BNB_score = cur_BNB_score\n",
      "        best_BNB_alpha = alph\n",
      "    \n",
      "print \"Best MNB Accuracy: %0.2f%% for alpha = %d\" % (best_MNB_score, best_MNB_alpha)\n",
      "print \"Best BNB Accuracy: %0.2f%% for alpha = %d\" % (best_BNB_score, best_BNB_alpha)"
     ],
     "language": "python",
     "metadata": {},
     "outputs": [
      {
       "output_type": "stream",
       "stream": "stdout",
       "text": [
        "Best MNB Accuracy: 94.53% for alpha = 1\n",
        "Best BNB Accuracy: 95.13% for alpha = 1\n"
       ]
      }
     ],
     "prompt_number": 84
    },
    {
     "cell_type": "code",
     "collapsed": false,
     "input": [
      "#1 buzz, 0 NYT\n",
      "clf_MNB = MultinomialNB(alpha=1).fit(X, Y)\n",
      "\n",
      "newVec = CountVectorizer(vocabulary=vectorizer.vocabulary_)\n",
      "Xnew = newVec.fit_transform([\"\"])\n",
      "# print X[5024 ]\n",
      "# print corpus[5024]\n",
      "# print clf_MNB.predict(X[5024])\n",
      "# print Xnew\n",
      "print '   NYT         Buzz'\n",
      "print clf_MNB.predict_proba(Xnew)\n",
      "        \n"
     ],
     "language": "python",
     "metadata": {},
     "outputs": [
      {
       "output_type": "stream",
       "stream": "stdout",
       "text": [
        "   NYT         Buzz\n",
        "[[ 0.51068292  0.48931708]]\n"
       ]
      }
     ],
     "prompt_number": 85
    },
    {
     "cell_type": "heading",
     "level": 5,
     "metadata": {},
     "source": [
      "  (861, 8161)\t1"
     ]
    },
    {
     "cell_type": "code",
     "collapsed": false,
     "input": [
      "# y_pred = clf_MNB.predict_proba(xtrain)\n",
      "# print y_pred\n",
      "# tags = list(set(xtest)\n",
      "# probs = y_pred.tolist() \n",
      "\n",
      "# print [zip(i, tags) for i in probs]"
     ],
     "language": "python",
     "metadata": {},
     "outputs": [],
     "prompt_number": 86
    },
    {
     "cell_type": "code",
     "collapsed": false,
     "input": [
      "# print X"
     ],
     "language": "python",
     "metadata": {},
     "outputs": [],
     "prompt_number": 87
    },
    {
     "cell_type": "code",
     "collapsed": false,
     "input": [],
     "language": "python",
     "metadata": {},
     "outputs": [],
     "prompt_number": 87
    }
   ],
   "metadata": {}
  }
 ]
}